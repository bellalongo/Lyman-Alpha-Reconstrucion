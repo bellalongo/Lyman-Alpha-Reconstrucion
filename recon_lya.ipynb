{
 "cells": [
  {
   "attachments": {},
   "cell_type": "markdown",
   "metadata": {},
   "source": [
    "### Reconstructing the Lyman Alpha line using a Feedforward Network"
   ]
  },
  {
   "cell_type": "code",
   "execution_count": 2,
   "metadata": {},
   "outputs": [],
   "source": [
    "# Necessary Imports\n",
    "import numpy as np\n",
    "import matplotlib.pyplot as plt\n",
    "from astropy.io import fits\n",
    "import torch\n",
    "import torch.nn as nn\n",
    "import torch.optim as optim\n",
    "from sklearn.model_selection import train_test_split"
   ]
  },
  {
   "cell_type": "code",
   "execution_count": 40,
   "metadata": {},
   "outputs": [
    {
     "name": "stdout",
     "output_type": "stream",
     "text": [
      "[1140.23944757 1140.25786757 1140.27628757 ... 1709.87789926 1709.89631925\n",
      " 1709.91473925]\n",
      "[1140.23944757 1140.25786757 1140.27628757 ... 1709.87789926 1709.89631925\n",
      " 1709.91473925]\n"
     ]
    }
   ],
   "source": [
    "# Pull the data\n",
    "data, header = fits.getdata('hlsp_muscles_hst_stis_tau_ceti_e140m_v1_component-spec.fits', header=True, byteorder='big')\n",
    "w, f , e = data['WAVELENGTH'], data['FLUX'], data['ERROR']\n",
    "\n",
    "# Mask out the Lyman Alpha line\n",
    "mask = (w >= 1214.5) & (w <= 1216.55) \n",
    "\n",
    "w = w.byteswap().newbyteorder()\n",
    "f = f.byteswap().newbyteorder()\n",
    "e = e.byteswap().newbyteorder()\n"
   ]
  },
  {
   "cell_type": "code",
   "execution_count": 41,
   "metadata": {},
   "outputs": [],
   "source": [
    "X_train, X_test, y_train, y_test = train_test_split(w[mask], f[mask], test_size=0.2, random_state=42)\n",
    "\n",
    "X_train_tensor = torch.from_numpy(X_train).float().view(-1, 1)\n",
    "y_train_tensor = torch.from_numpy(y_train).float().view(-1, 1)\n",
    "X_test_tensor = torch.from_numpy(X_test).float().view(-1, 1)"
   ]
  }
 ],
 "metadata": {
  "kernelspec": {
   "display_name": "Python 3",
   "language": "python",
   "name": "python3"
  },
  "language_info": {
   "codemirror_mode": {
    "name": "ipython",
    "version": 3
   },
   "file_extension": ".py",
   "mimetype": "text/x-python",
   "name": "python",
   "nbconvert_exporter": "python",
   "pygments_lexer": "ipython3",
   "version": "3.11.3"
  },
  "orig_nbformat": 4
 },
 "nbformat": 4,
 "nbformat_minor": 2
}
